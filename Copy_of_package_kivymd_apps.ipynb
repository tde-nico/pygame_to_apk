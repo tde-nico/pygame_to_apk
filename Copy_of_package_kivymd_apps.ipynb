{
  "cells": [
    {
      "cell_type": "markdown",
      "metadata": {
        "id": "ggV9UyKDNcQy"
      },
      "source": [
        "# Packaging applications for android with buildozer\n",
        "\n",
        "## Step 1: Install buildozer dependencies\n",
        "\n",
        "Run the following cell."
      ]
    },
    {
      "cell_type": "code",
      "execution_count": null,
      "metadata": {
        "id": "7S7xAzPPNYwB"
      },
      "outputs": [],
      "source": [
        "!wget https://github.com/HeaTTheatR/KivyMD-data/raw/master/install-kivy-buildozer-dependencies.sh\n",
        "!chmod +x install-kivy-buildozer-dependencies.sh\n",
        "\n",
        "!./install-kivy-buildozer-dependencies.sh"
      ]
    },
    {
      "cell_type": "markdown",
      "metadata": {
        "id": "XQN54zBhN-BO"
      },
      "source": [
        "## Step 2: Install some updates and packages vital for packaging"
      ]
    },
    {
      "cell_type": "code",
      "execution_count": null,
      "metadata": {
        "id": "2NateisEOJv8"
      },
      "outputs": [],
      "source": [
        "!sudo apt update\n",
        "!sudo apt install -y git zip unzip openjdk-8-jdk python3-pip autoconf libtool pkg-config zlib1g-dev libncurses5-dev libncursesw5-dev libtinfo5 cmake libffi-dev libssl-dev\n",
        "!pip install --upgrade Cython==0.29.19 virtualenv\n",
        "!sudo apt upgrade"
      ]
    },
    {
      "cell_type": "markdown",
      "metadata": {
        "id": "EQ0HmE_LGiz8"
      },
      "source": [
        "## Step 3: Install dependencies and Clean"
      ]
    },
    {
      "cell_type": "code",
      "source": [
        "!pip install -U cython # cython-3.0.2\n",
        "!pip install --upgrade pygame-ce pyjnius\n",
        "!rm -rf sample_data buildozer get-pip.py install-kivy*"
      ],
      "metadata": {
        "id": "yLvYue0lGtca"
      },
      "execution_count": null,
      "outputs": []
    },
    {
      "cell_type": "markdown",
      "metadata": {
        "id": "V7lrSG8JOMd8"
      },
      "source": [
        "## Step 4: Create the spec file"
      ]
    },
    {
      "cell_type": "code",
      "execution_count": null,
      "metadata": {
        "id": "7S7mlHxpOj7L"
      },
      "outputs": [],
      "source": [
        "!buildozer init"
      ]
    },
    {
      "cell_type": "markdown",
      "metadata": {
        "id": "O1HeO3H6PNv6"
      },
      "source": [
        "## Step 5: Upload the files\n",
        "\n",
        "Upload the files main.py and main.kv\n",
        "Click on the file icon to the left of the screen, right click and click upload."
      ]
    },
    {
      "cell_type": "markdown",
      "metadata": {
        "id": "ivjZN0stOp4L"
      },
      "source": [
        "## Step 6: Run buildozer.\n",
        "Make sure to accept the terms and conditions. The process could take up to 15 minutes so be patient."
      ]
    },
    {
      "cell_type": "code",
      "execution_count": null,
      "metadata": {
        "id": "5LpwN3t0O_Ae"
      },
      "outputs": [],
      "source": [
        "!buildozer -v android debug"
      ]
    },
    {
      "cell_type": "markdown",
      "metadata": {
        "id": "j-dwk1zDPlFk"
      },
      "source": [
        "## Step 7: Download the apk file."
      ]
    }
  ],
  "metadata": {
    "colab": {
      "provenance": []
    },
    "kernelspec": {
      "display_name": "Python 3",
      "name": "python3"
    },
    "language_info": {
      "name": "python"
    }
  },
  "nbformat": 4,
  "nbformat_minor": 0
}